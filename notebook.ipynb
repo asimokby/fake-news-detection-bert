{
 "cells": [
  {
   "cell_type": "markdown",
   "id": "c0b51b03-2e61-4f79-a902-988c2a39f1d1",
   "metadata": {},
   "source": [
    "# Fake News Detection "
   ]
  },
  {
   "cell_type": "code",
   "execution_count": 53,
   "id": "aa9329a6-3fd5-46a8-a08c-8dd2938d7aaa",
   "metadata": {},
   "outputs": [
    {
     "data": {
      "text/plain": [
       "' The following imports are used for getting bert embedings.\\n    The embeddings were pickle and saved since running this takes up to an hour'"
      ]
     },
     "execution_count": 53,
     "metadata": {},
     "output_type": "execute_result"
    }
   ],
   "source": [
    "import numpy as np\n",
    "import pandas as pd\n",
    "import matplotlib.pyplot as plt\n",
    "import re\n",
    "from nltk.corpus import stopwords\n",
    "from sklearn.feature_extraction.text import TfidfVectorizer\n",
    "from sklearn.model_selection import train_test_split\n",
    "from sklearn.linear_model import LogisticRegression, SGDClassifier\n",
    "import pickle\n",
    "from sklearn.metrics import accuracy_score, f1_score\n",
    "from nltk.util import ngrams\n",
    "from sklearn.decomposition import PCA\n",
    "from sklearn.preprocessing import StandardScaler\n",
    "from sklearn.model_selection import cross_val_score\n",
    "from sklearn.ensemble import RandomForestClassifier\n",
    "from sklearn.svm import LinearSVC\n",
    "from sklearn.calibration import CalibratedClassifierCV\n",
    "import gensim\n",
    "from gensim.models import Word2Vec\n",
    "\n",
    "import warnings\n",
    "warnings.filterwarnings('ignore')\n",
    "\n",
    "from scipy import stats\n",
    "\"\"\" The following imports are used for getting bert embedings.\n",
    "    The embeddings were pickle and saved since running this takes up to an hour\"\"\"\n",
    "# from flair.embeddings import TransformerWordEmbeddings\n",
    "# from flair.data import Sentence\n",
    "# import torch\n",
    "# from nltk.tokenize import sent_tokenize\n",
    "# import gc"
   ]
  },
  {
   "cell_type": "markdown",
   "id": "2b90cdca-e368-40d3-875e-61483913ca27",
   "metadata": {
    "tags": []
   },
   "source": [
    "## Reading the Data"
   ]
  },
  {
   "cell_type": "code",
   "execution_count": 2,
   "id": "0ada1c83-bce1-41fc-95a9-057ac9f144aa",
   "metadata": {},
   "outputs": [],
   "source": [
    "data = pd.read_csv('data/train.csv', sep='\\t')"
   ]
  },
  {
   "cell_type": "markdown",
   "id": "53980835-9b09-47ca-b936-909901be192f",
   "metadata": {
    "tags": []
   },
   "source": [
    "## Discovering the Data"
   ]
  },
  {
   "cell_type": "markdown",
   "id": "fe48aa88-83e9-4402-a00d-def93c9f09ae",
   "metadata": {},
   "source": [
    "We start off with a quick glance at the data. "
   ]
  },
  {
   "cell_type": "code",
   "execution_count": 3,
   "id": "58166e8f-9a46-475b-a869-7a8cd1d2ef7c",
   "metadata": {},
   "outputs": [
    {
     "data": {
      "text/html": [
       "<div>\n",
       "<style scoped>\n",
       "    .dataframe tbody tr th:only-of-type {\n",
       "        vertical-align: middle;\n",
       "    }\n",
       "\n",
       "    .dataframe tbody tr th {\n",
       "        vertical-align: top;\n",
       "    }\n",
       "\n",
       "    .dataframe thead th {\n",
       "        text-align: right;\n",
       "    }\n",
       "</style>\n",
       "<table border=\"1\" class=\"dataframe\">\n",
       "  <thead>\n",
       "    <tr style=\"text-align: right;\">\n",
       "      <th></th>\n",
       "      <th>text</th>\n",
       "      <th>label</th>\n",
       "    </tr>\n",
       "  </thead>\n",
       "  <tbody>\n",
       "    <tr>\n",
       "      <th>0</th>\n",
       "      <td>Get the latest from TODAY Sign up for our news...</td>\n",
       "      <td>1</td>\n",
       "    </tr>\n",
       "    <tr>\n",
       "      <th>1</th>\n",
       "      <td>2d  Conan On The Funeral Trump Will Be Invited...</td>\n",
       "      <td>1</td>\n",
       "    </tr>\n",
       "    <tr>\n",
       "      <th>2</th>\n",
       "      <td>It’s safe to say that Instagram Stories has fa...</td>\n",
       "      <td>0</td>\n",
       "    </tr>\n",
       "    <tr>\n",
       "      <th>3</th>\n",
       "      <td>Much like a certain Amazon goddess with a lass...</td>\n",
       "      <td>0</td>\n",
       "    </tr>\n",
       "    <tr>\n",
       "      <th>4</th>\n",
       "      <td>At a time when the perfect outfit is just one ...</td>\n",
       "      <td>0</td>\n",
       "    </tr>\n",
       "  </tbody>\n",
       "</table>\n",
       "</div>"
      ],
      "text/plain": [
       "                                                text label\n",
       "0  Get the latest from TODAY Sign up for our news...     1\n",
       "1  2d  Conan On The Funeral Trump Will Be Invited...     1\n",
       "2  It’s safe to say that Instagram Stories has fa...     0\n",
       "3  Much like a certain Amazon goddess with a lass...     0\n",
       "4  At a time when the perfect outfit is just one ...     0"
      ]
     },
     "execution_count": 3,
     "metadata": {},
     "output_type": "execute_result"
    }
   ],
   "source": [
    "data.head()"
   ]
  },
  {
   "cell_type": "code",
   "execution_count": 4,
   "id": "dde1006a-b504-4c3a-aff2-273ae55f5f93",
   "metadata": {},
   "outputs": [
    {
     "data": {
      "text/plain": [
       "(4987, 2)"
      ]
     },
     "execution_count": 4,
     "metadata": {},
     "output_type": "execute_result"
    }
   ],
   "source": [
    "data.shape"
   ]
  },
  {
   "cell_type": "markdown",
   "id": "1e1c4e7d-bc80-406d-aef5-31da59d6e5be",
   "metadata": {},
   "source": [
    "Let's start with investigating the target variable."
   ]
  },
  {
   "cell_type": "code",
   "execution_count": 5,
   "id": "88a1ec1d-dadc-4a67-8239-00faed9b79fd",
   "metadata": {},
   "outputs": [
    {
     "data": {
      "image/png": "[encoded data removed]",
      "text/plain": [
       "<Figure size 432x288 with 1 Axes>"
      ]
     },
     "metadata": {
      "needs_background": "light"
     },
     "output_type": "display_data"
    }
   ],
   "source": [
    "bins = [-.1, .1, .9, 1.1]\n",
    "data['label'].hist(bins=bins)\n",
    "plt.title('Distribution of the Target Variable')\n",
    "plt.xlabel('Label Value')\n",
    "plt.ylabel('Frequency')\n",
    "plt.show()"
   ]
  },
  {
   "cell_type": "markdown",
   "id": "5067a052-4ac7-453a-a906-b6647e95902f",
   "metadata": {},
   "source": [
    "The histogram shows that the data is not balanced. We have to keep this in mind when evaluating the performance of the models and avoid some metrics that would mislead us.\n",
    "\n",
    "Something else to notice is the third value **label** on the x-axis. Let's have a closer look to see what that is. "
   ]
  },
  {
   "cell_type": "code",
   "execution_count": 6,
   "id": "18e7a7d8-30fb-4082-90a0-05d54eaf6476",
   "metadata": {},
   "outputs": [
    {
     "data": {
      "text/plain": [
       "0        2972\n",
       "1        2014\n",
       "label       1\n",
       "Name: label, dtype: int64"
      ]
     },
     "execution_count": 6,
     "metadata": {},
     "output_type": "execute_result"
    }
   ],
   "source": [
    "data['label'].value_counts()"
   ]
  },
  {
   "cell_type": "markdown",
   "id": "94884d1f-b5ea-499e-b1ef-ff3e4d5bdbf9",
   "metadata": {},
   "source": [
    "There is a single value called label. It could be a missing value. Let's look at that row in the dataframe."
   ]
  },
  {
   "cell_type": "code",
   "execution_count": 7,
   "id": "bc42f095-b4d1-4fb4-8ac1-0de03ca74934",
   "metadata": {},
   "outputs": [
    {
     "data": {
      "text/html": [
       "<div>\n",
       "<style scoped>\n",
       "    .dataframe tbody tr th:only-of-type {\n",
       "        vertical-align: middle;\n",
       "    }\n",
       "\n",
       "    .dataframe tbody tr th {\n",
       "        vertical-align: top;\n",
       "    }\n",
       "\n",
       "    .dataframe thead th {\n",
       "        text-align: right;\n",
       "    }\n",
       "</style>\n",
       "<table border=\"1\" class=\"dataframe\">\n",
       "  <thead>\n",
       "    <tr style=\"text-align: right;\">\n",
       "      <th></th>\n",
       "      <th>text</th>\n",
       "      <th>label</th>\n",
       "    </tr>\n",
       "  </thead>\n",
       "  <tbody>\n",
       "    <tr>\n",
       "      <th>1615</th>\n",
       "      <td>content</td>\n",
       "      <td>label</td>\n",
       "    </tr>\n",
       "  </tbody>\n",
       "</table>\n",
       "</div>"
      ],
      "text/plain": [
       "         text  label\n",
       "1615  content  label"
      ]
     },
     "execution_count": 7,
     "metadata": {},
     "output_type": "execute_result"
    }
   ],
   "source": [
    "data.loc[data['label']=='label']"
   ]
  },
  {
   "cell_type": "markdown",
   "id": "4b5bb13d-719e-4167-86b7-8ce17c9d3c86",
   "metadata": {},
   "source": [
    "The whole row is junk. We will delete it. "
   ]
  },
  {
   "cell_type": "code",
   "execution_count": 8,
   "id": "81137d99-4d76-4464-ba24-607612809cb5",
   "metadata": {},
   "outputs": [],
   "source": [
    "data = data.drop(1615)"
   ]
  },
  {
   "cell_type": "code",
   "execution_count": 9,
   "id": "9fcb82de-a8f6-42fb-b73f-23f96fadd6bf",
   "metadata": {},
   "outputs": [
    {
     "data": {
      "text/plain": [
       "0    2972\n",
       "1    2014\n",
       "Name: label, dtype: int64"
      ]
     },
     "execution_count": 9,
     "metadata": {},
     "output_type": "execute_result"
    }
   ],
   "source": [
    "data['label'].value_counts()"
   ]
  },
  {
   "cell_type": "markdown",
   "id": "ec715765-5675-41ad-a901-be2a75d6c031",
   "metadata": {},
   "source": [
    "Let's make sure we don't have any missing values."
   ]
  },
  {
   "cell_type": "code",
   "execution_count": 10,
   "id": "9218537a-cc9d-484f-88c5-f97f1351129d",
   "metadata": {},
   "outputs": [
    {
     "name": "stdout",
     "output_type": "stream",
     "text": [
      "<class 'pandas.core.frame.DataFrame'>\n",
      "Int64Index: 4986 entries, 0 to 4986\n",
      "Data columns (total 2 columns):\n",
      " #   Column  Non-Null Count  Dtype \n",
      "---  ------  --------------  ----- \n",
      " 0   text    4986 non-null   object\n",
      " 1   label   4986 non-null   object\n",
      "dtypes: object(2)\n",
      "memory usage: 116.9+ KB\n"
     ]
    }
   ],
   "source": [
    "data.info()"
   ]
  },
  {
   "cell_type": "code",
   "execution_count": 11,
   "id": "a2372fd5-5cf9-4f7e-ac21-0d96837ac788",
   "metadata": {},
   "outputs": [
    {
     "data": {
      "text/plain": [
       "text     False\n",
       "label    False\n",
       "dtype: bool"
      ]
     },
     "execution_count": 11,
     "metadata": {},
     "output_type": "execute_result"
    }
   ],
   "source": [
    "data.isnull().any()"
   ]
  },
  {
   "cell_type": "markdown",
   "id": "75052e02-955b-412e-85ff-cfd34bb0af19",
   "metadata": {},
   "source": [
    "It seems that we don't have any missing values. \n",
    "\n",
    "\n",
    "Now, let's investigate the single feature we have **text**. We start with learning some statistics about this feature e.g. the length of the article. "
   ]
  },
  {
   "cell_type": "code",
   "execution_count": 12,
   "id": "d35351c6-4ba6-4815-b20b-ce3aef4ef1dc",
   "metadata": {},
   "outputs": [
    {
     "name": "stdout",
     "output_type": "stream",
     "text": [
      "Average length: 661.996991576414 \n",
      "\n"
     ]
    },
    {
     "data": {
      "image/png": "[encoded data removed]",
      "text/plain": [
       "<Figure size 432x288 with 1 Axes>"
      ]
     },
     "metadata": {
      "needs_background": "light"
     },
     "output_type": "display_data"
    }
   ],
   "source": [
    "article_lengths = [len(line.split()) for line in data['text']]\n",
    "avg_len = np.mean(article_lengths) \n",
    "print(f'Average length: {avg_len} \\n')\n",
    "plt.hist(article_lengths) \n",
    "plt.plot(avg_len, 100 ,'ro') \n",
    "plt.annotate(round(avg_len, 2), (avg_len, 160))\n",
    "plt.title('Distribution of the lengths of the News Articles')\n",
    "plt.xlabel('Length')\n",
    "plt.ylabel('Frequency')\n",
    "plt.show()"
   ]
  },
  {
   "cell_type": "markdown",
   "id": "b98de1df-4cd7-4daf-aa52-6f83742c030b",
   "metadata": {},
   "source": [
    "Most of the lengths are below 2500. We will have to truncate the samples to a specific length later.  "
   ]
  },
  {
   "cell_type": "markdown",
   "id": "e3ecde66-3714-4d2e-932d-06c8b58ccff2",
   "metadata": {},
   "source": [
    "Now, let's look at the common bigrams (combination of 2 words) in both classes: fake and not fake.  "
   ]
  },
  {
   "cell_type": "code",
   "execution_count": 13,
   "id": "2f5db84a-cc5f-41d3-ba14-2b9fbca64620",
   "metadata": {},
   "outputs": [],
   "source": [
    "fake = data.loc[data['label']=='1'].reset_index(drop=True)\n",
    "not_fake = data.loc[data['label'] == '0'].reset_index(drop=True)"
   ]
  },
  {
   "cell_type": "code",
   "execution_count": 14,
   "id": "a71558a2-236b-4957-87a5-9e0779097df2",
   "metadata": {},
   "outputs": [
    {
     "data": {
      "text/html": [
       "<div>\n",
       "<style scoped>\n",
       "    .dataframe tbody tr th:only-of-type {\n",
       "        vertical-align: middle;\n",
       "    }\n",
       "\n",
       "    .dataframe tbody tr th {\n",
       "        vertical-align: top;\n",
       "    }\n",
       "\n",
       "    .dataframe thead th {\n",
       "        text-align: right;\n",
       "    }\n",
       "</style>\n",
       "<table border=\"1\" class=\"dataframe\">\n",
       "  <thead>\n",
       "    <tr style=\"text-align: right;\">\n",
       "      <th></th>\n",
       "      <th>text</th>\n",
       "      <th>label</th>\n",
       "    </tr>\n",
       "  </thead>\n",
       "  <tbody>\n",
       "    <tr>\n",
       "      <th>0</th>\n",
       "      <td>Get the latest from TODAY Sign up for our news...</td>\n",
       "      <td>1</td>\n",
       "    </tr>\n",
       "    <tr>\n",
       "      <th>1</th>\n",
       "      <td>2d  Conan On The Funeral Trump Will Be Invited...</td>\n",
       "      <td>1</td>\n",
       "    </tr>\n",
       "    <tr>\n",
       "      <th>2</th>\n",
       "      <td>On March 24, 2018, one month and ten days afte...</td>\n",
       "      <td>1</td>\n",
       "    </tr>\n",
       "    <tr>\n",
       "      <th>3</th>\n",
       "      <td>A mosque in Georgia is under fire after they s...</td>\n",
       "      <td>1</td>\n",
       "    </tr>\n",
       "    <tr>\n",
       "      <th>4</th>\n",
       "      <td>Scott Disick is sticking up for Khloe Kardashi...</td>\n",
       "      <td>1</td>\n",
       "    </tr>\n",
       "  </tbody>\n",
       "</table>\n",
       "</div>"
      ],
      "text/plain": [
       "                                                text label\n",
       "0  Get the latest from TODAY Sign up for our news...     1\n",
       "1  2d  Conan On The Funeral Trump Will Be Invited...     1\n",
       "2  On March 24, 2018, one month and ten days afte...     1\n",
       "3  A mosque in Georgia is under fire after they s...     1\n",
       "4  Scott Disick is sticking up for Khloe Kardashi...     1"
      ]
     },
     "execution_count": 14,
     "metadata": {},
     "output_type": "execute_result"
    }
   ],
   "source": [
    "fake.head()"
   ]
  },
  {
   "cell_type": "code",
   "execution_count": 15,
   "id": "e5e4cd6c-8a26-4455-84ba-a217dbe3b956",
   "metadata": {},
   "outputs": [
    {
     "data": {
      "text/html": [
       "<div>\n",
       "<style scoped>\n",
       "    .dataframe tbody tr th:only-of-type {\n",
       "        vertical-align: middle;\n",
       "    }\n",
       "\n",
       "    .dataframe tbody tr th {\n",
       "        vertical-align: top;\n",
       "    }\n",
       "\n",
       "    .dataframe thead th {\n",
       "        text-align: right;\n",
       "    }\n",
       "</style>\n",
       "<table border=\"1\" class=\"dataframe\">\n",
       "  <thead>\n",
       "    <tr style=\"text-align: right;\">\n",
       "      <th></th>\n",
       "      <th>text</th>\n",
       "      <th>label</th>\n",
       "    </tr>\n",
       "  </thead>\n",
       "  <tbody>\n",
       "    <tr>\n",
       "      <th>0</th>\n",
       "      <td>It’s safe to say that Instagram Stories has fa...</td>\n",
       "      <td>0</td>\n",
       "    </tr>\n",
       "    <tr>\n",
       "      <th>1</th>\n",
       "      <td>Much like a certain Amazon goddess with a lass...</td>\n",
       "      <td>0</td>\n",
       "    </tr>\n",
       "    <tr>\n",
       "      <th>2</th>\n",
       "      <td>At a time when the perfect outfit is just one ...</td>\n",
       "      <td>0</td>\n",
       "    </tr>\n",
       "    <tr>\n",
       "      <th>3</th>\n",
       "      <td>When Reese Witherspoon was 17, she had already...</td>\n",
       "      <td>0</td>\n",
       "    </tr>\n",
       "    <tr>\n",
       "      <th>4</th>\n",
       "      <td>It’s official! WAGS Miami stars Ashley Nicole ...</td>\n",
       "      <td>0</td>\n",
       "    </tr>\n",
       "  </tbody>\n",
       "</table>\n",
       "</div>"
      ],
      "text/plain": [
       "                                                text label\n",
       "0  It’s safe to say that Instagram Stories has fa...     0\n",
       "1  Much like a certain Amazon goddess with a lass...     0\n",
       "2  At a time when the perfect outfit is just one ...     0\n",
       "3  When Reese Witherspoon was 17, she had already...     0\n",
       "4  It’s official! WAGS Miami stars Ashley Nicole ...     0"
      ]
     },
     "execution_count": 15,
     "metadata": {},
     "output_type": "execute_result"
    }
   ],
   "source": [
    "not_fake.head()"
   ]
  },
  {
   "cell_type": "code",
   "execution_count": 16,
   "id": "d8820f3a-dbc8-4ce0-80c9-da4e46ea52d5",
   "metadata": {},
   "outputs": [],
   "source": [
    "def get_top_n_bigrams(n, corpus):\n",
    "    \"\"\" Returns the most probable n bigrams in the given corpus\"\"\"\n",
    "    vec = TfidfVectorizer(ngram_range=(2, 2),use_idf=False)\n",
    "    matrix = vec.fit_transform(corpus).toarray()\n",
    "    vocabulary = vec.get_feature_names() \n",
    "    return sorted(zip(matrix[0], vocabulary), key=lambda t: t[0])[-n:]"
   ]
  },
  {
   "cell_type": "code",
   "execution_count": 17,
   "id": "54728392-8bc1-4785-8232-15e80f5955a6",
   "metadata": {},
   "outputs": [
    {
     "data": {
      "text/html": [
       "<div>\n",
       "<style scoped>\n",
       "    .dataframe tbody tr th:only-of-type {\n",
       "        vertical-align: middle;\n",
       "    }\n",
       "\n",
       "    .dataframe tbody tr th {\n",
       "        vertical-align: top;\n",
       "    }\n",
       "\n",
       "    .dataframe thead th {\n",
       "        text-align: right;\n",
       "    }\n",
       "</style>\n",
       "<table border=\"1\" class=\"dataframe\">\n",
       "  <thead>\n",
       "    <tr style=\"text-align: right;\">\n",
       "      <th></th>\n",
       "      <th>bigram</th>\n",
       "      <th>probability</th>\n",
       "    </tr>\n",
       "  </thead>\n",
       "  <tbody>\n",
       "    <tr>\n",
       "      <th>0</th>\n",
       "      <td>at the</td>\n",
       "      <td>0.189514</td>\n",
       "    </tr>\n",
       "    <tr>\n",
       "      <th>1</th>\n",
       "      <td>to the</td>\n",
       "      <td>0.193482</td>\n",
       "    </tr>\n",
       "    <tr>\n",
       "      <th>2</th>\n",
       "      <td>on the</td>\n",
       "      <td>0.217805</td>\n",
       "    </tr>\n",
       "    <tr>\n",
       "      <th>3</th>\n",
       "      <td>in the</td>\n",
       "      <td>0.430540</td>\n",
       "    </tr>\n",
       "    <tr>\n",
       "      <th>4</th>\n",
       "      <td>of the</td>\n",
       "      <td>0.438623</td>\n",
       "    </tr>\n",
       "  </tbody>\n",
       "</table>\n",
       "</div>"
      ],
      "text/plain": [
       "   bigram  probability\n",
       "0  at the     0.189514\n",
       "1  to the     0.193482\n",
       "2  on the     0.217805\n",
       "3  in the     0.430540\n",
       "4  of the     0.438623"
      ]
     },
     "execution_count": 17,
     "metadata": {},
     "output_type": "execute_result"
    }
   ],
   "source": [
    "fake_corpus = [' '.join(fake['text'])]\n",
    "df = pd.DataFrame(get_top_n_bigrams(5, fake_corpus))\n",
    "df.columns = ['probability', 'bigram']\n",
    "df = df[['bigram', 'probability']]\n",
    "df"
   ]
  },
  {
   "cell_type": "markdown",
   "id": "e21e1761-8be4-47ad-ba80-30b23170c61d",
   "metadata": {},
   "source": [
    "In the fake articles, all of the top n bigrams are stop words. Those are words that are very common in the language and don't carry a lot of information."
   ]
  },
  {
   "cell_type": "code",
   "execution_count": 18,
   "id": "4de68def-88cf-4346-abe9-c80c1ba3571d",
   "metadata": {},
   "outputs": [
    {
     "data": {
      "text/html": [
       "<div>\n",
       "<style scoped>\n",
       "    .dataframe tbody tr th:only-of-type {\n",
       "        vertical-align: middle;\n",
       "    }\n",
       "\n",
       "    .dataframe tbody tr th {\n",
       "        vertical-align: top;\n",
       "    }\n",
       "\n",
       "    .dataframe thead th {\n",
       "        text-align: right;\n",
       "    }\n",
       "</style>\n",
       "<table border=\"1\" class=\"dataframe\">\n",
       "  <thead>\n",
       "    <tr style=\"text-align: right;\">\n",
       "      <th></th>\n",
       "      <th>bigram</th>\n",
       "      <th>probability</th>\n",
       "    </tr>\n",
       "  </thead>\n",
       "  <tbody>\n",
       "    <tr>\n",
       "      <th>0</th>\n",
       "      <td>at the</td>\n",
       "      <td>0.183098</td>\n",
       "    </tr>\n",
       "    <tr>\n",
       "      <th>1</th>\n",
       "      <td>to the</td>\n",
       "      <td>0.202521</td>\n",
       "    </tr>\n",
       "    <tr>\n",
       "      <th>2</th>\n",
       "      <td>on the</td>\n",
       "      <td>0.211595</td>\n",
       "    </tr>\n",
       "    <tr>\n",
       "      <th>3</th>\n",
       "      <td>in the</td>\n",
       "      <td>0.407152</td>\n",
       "    </tr>\n",
       "    <tr>\n",
       "      <th>4</th>\n",
       "      <td>of the</td>\n",
       "      <td>0.473564</td>\n",
       "    </tr>\n",
       "  </tbody>\n",
       "</table>\n",
       "</div>"
      ],
      "text/plain": [
       "   bigram  probability\n",
       "0  at the     0.183098\n",
       "1  to the     0.202521\n",
       "2  on the     0.211595\n",
       "3  in the     0.407152\n",
       "4  of the     0.473564"
      ]
     },
     "execution_count": 18,
     "metadata": {},
     "output_type": "execute_result"
    }
   ],
   "source": [
    "not_fake_corpus = [' '.join(not_fake['text'])]\n",
    "df = pd.DataFrame(get_top_n_bigrams(5, not_fake_corpus))\n",
    "df.columns = ['probability', 'bigram']\n",
    "df = df[['bigram', 'probability']]\n",
    "df"
   ]
  },
  {
   "cell_type": "markdown",
   "id": "2d7d7284-85a8-4a53-9d0a-04af7cf16cb7",
   "metadata": {},
   "source": [
    "Again here, as expected, the most common bigrams are stop words. \n",
    "\n",
    "\n",
    "The expectations is that we don't see these after cleaning the data of those stop words. "
   ]
  },
  {
   "cell_type": "markdown",
   "id": "d22320ff-0eb7-4e35-af5a-69eeff4177e4",
   "metadata": {},
   "source": [
    "## Cleaning the Data"
   ]
  },
  {
   "cell_type": "markdown",
   "id": "adac0556-9dd1-4c9e-96ed-06a9262b3448",
   "metadata": {},
   "source": [
    "The text feature contains raw text. The text needs to be cleaned before vectorizing it to get rid the tokens that would hurt the model. Tokens like punctuations, qoutation marks, emojis, links..etc. Such tokens could actually contribute to the target's value e.g. fake news usually contain punctuations, however, we tackle the task first using the clean text. We may later engineer more such features to help us improve the models' performance. \n",
    "\n",
    "\n",
    "Let's look at one news article before cleaning it."
   ]
  },
  {
   "cell_type": "code",
   "execution_count": 19,
   "id": "1ed31619-a770-4c6f-a4ea-8d4c9c3cdddc",
   "metadata": {},
   "outputs": [
    {
     "data": {
      "text/plain": [
       "'Get the latest from TODAY Sign up for our newsletter  No one ever truly gets over losing a loved one, and Blake Shelton is no exception. He was just 14 when his older brother Richie died on Nov. 13, 1990. And, as Shelton noted in a tweet Monday, \"It changed my life forever.\"  Richie was 24 when he died in a car accident in the Sheltons\\' home state of Oklahoma. Two years ago, Shelton sent out a message for the 25th anniversary of his loss:  Richie, who was Blake\\'s half-brother (they shared a mother), was a passenger in a car that collided with a school bus in Ada, south of Oklahoma City.  Richie, driver Redena McManus and a 3-year-old boy, Christopher McManus, all died during or shortly after the collision, while the bus driver and passengers were uninjured, according to police reports.  The accident has clearly remained with Blake, who told 60 Minutes in 2014, \"I remember picking up the phone to call him a week after he was dead, to tell him something. I was picking up the phone to call him, to tell him something I just saw on TV or, and it was like constantly a shock to me that he was dead.\"  Blake Shelton playing at TODAY\\'s Halloween Extravaganza in New York City on Oct. 31. Getty Images  In 2011, Blake and his then-wife Miranda Lambert wrote a single called \"Over You,\" which was inspired by Richie.  Still, the two brothers had bonded despite the age difference; both shared a love of country music. \"His bedroom was right across the hallway from mine when I was little,\" Blake said in that interview. \"And he was listening to Hank Williams, Jr. or Waylon, Lynyrd Skynyrd or Bob Seeger. I just, whatever was popular really, Richie loved all music.  \"And I would be sitting there going, \\'Man, that guy\\'s my hero. That\\'s the coolest guy. He’s my big brother.\\'\"  Follow Randee Dawn on Twitter.'"
      ]
     },
     "execution_count": 19,
     "metadata": {},
     "output_type": "execute_result"
    }
   ],
   "source": [
    "text = data['text'][0]\n",
    "text"
   ]
  },
  {
   "cell_type": "markdown",
   "id": "f94e8a98-20f5-42b3-95c3-c9aa8788c07d",
   "metadata": {},
   "source": [
    "The text contains some junk that we need to clean. We will clean the text in the following steps: \n",
    "\n",
    "1) Removing punctuations.\n",
    "2) Removing digits.\n",
    "3) Remove the empty string, the one charachter tokens, and stop-words."
   ]
  },
  {
   "cell_type": "markdown",
   "id": "5ccafa99-3ccf-40cd-b1ac-06da4102c4b8",
   "metadata": {},
   "source": [
    "The following function applies the above steps."
   ]
  },
  {
   "cell_type": "code",
   "execution_count": 20,
   "id": "109ddb49-5917-4b05-9f2f-9f4df3643be3",
   "metadata": {},
   "outputs": [],
   "source": [
    "def clean_text(text):\n",
    "    \"\"\" Cleans a given text from punctuations, stop words, and numbers\"\"\"\n",
    "    stop_w = stopwords.words('English')\n",
    "    words = re.split(r'\\W+', text)  #punctionation\n",
    "    string_words = ' '.join((item for item in words if not item.isdigit())) #numbers\n",
    "    tokens = [token.lower() for token in string_words.split(\" \") if (token != \"\" and len(token)>1 and token not in stop_w)]  \n",
    "    return tokens"
   ]
  },
  {
   "cell_type": "markdown",
   "id": "24ffda4e-61c8-4e6b-99d9-eaf57ef404ff",
   "metadata": {},
   "source": [
    "Let's now look at the output of the function."
   ]
  },
  {
   "cell_type": "code",
   "execution_count": 21,
   "id": "ce7e1bfb-04c0-4072-9302-9272a25b1b34",
   "metadata": {},
   "outputs": [
    {
     "name": "stdout",
     "output_type": "stream",
     "text": [
      "['get', 'latest', 'today', 'sign', 'newsletter', 'no', 'one', 'ever', 'truly', 'gets', 'losing', 'loved', 'one', 'blake', 'shelton', 'exception', 'he', 'older', 'brother', 'richie', 'died', 'nov', 'and', 'shelton', 'noted', 'tweet', 'monday', 'it', 'changed', 'life', 'forever', 'richie', 'died', 'car', 'accident', 'sheltons', 'home', 'state', 'oklahoma', 'two', 'years', 'ago', 'shelton', 'sent', 'message', '25th', 'anniversary', 'loss', 'richie', 'blake', 'half', 'brother', 'shared', 'mother', 'passenger', 'car', 'collided', 'school', 'bus', 'ada', 'south', 'oklahoma', 'city', 'richie', 'driver', 'redena', 'mcmanus', 'year', 'old', 'boy', 'christopher', 'mcmanus', 'died', 'shortly', 'collision', 'bus', 'driver', 'passengers', 'uninjured', 'according', 'police', 'reports', 'the', 'accident', 'clearly', 'remained', 'blake', 'told', 'minutes', 'remember', 'picking', 'phone', 'call', 'week', 'dead', 'tell', 'something', 'picking', 'phone', 'call', 'tell', 'something', 'saw', 'tv', 'like', 'constantly', 'shock', 'dead', 'blake', 'shelton', 'playing', 'today', 'halloween', 'extravaganza', 'new', 'york', 'city', 'oct', 'getty', 'images', 'in', 'blake', 'wife', 'miranda', 'lambert', 'wrote', 'single', 'called', 'over', 'you', 'inspired', 'richie', 'still', 'two', 'brothers', 'bonded', 'despite', 'age', 'difference', 'shared', 'love', 'country', 'music', 'his', 'bedroom', 'right', 'across', 'hallway', 'mine', 'little', 'blake', 'said', 'interview', 'and', 'listening', 'hank', 'williams', 'jr', 'waylon', 'lynyrd', 'skynyrd', 'bob', 'seeger', 'whatever', 'popular', 'really', 'richie', 'loved', 'music', 'and', 'would', 'sitting', 'going', 'man', 'guy', 'hero', 'that', 'coolest', 'guy', 'he', 'big', 'brother', 'follow', 'randee', 'dawn', 'twitter']\n"
     ]
    }
   ],
   "source": [
    "print(clean_text(text))"
   ]
  },
  {
   "cell_type": "markdown",
   "id": "a6af70b0-5941-486e-a988-dcdf71017561",
   "metadata": {},
   "source": [
    "We applied the function to only a single row. Let's apply the function to the whole dataset. "
   ]
  },
  {
   "cell_type": "code",
   "execution_count": 22,
   "id": "f41f8cd4-1a59-4189-a690-35d9947559c9",
   "metadata": {},
   "outputs": [],
   "source": [
    "data['text'] = data['text'].apply(lambda x: clean_text(x))"
   ]
  },
  {
   "cell_type": "markdown",
   "id": "12a74ccd-b0d5-40f3-8541-870571ca1958",
   "metadata": {},
   "source": [
    "Let's look at the articles' lengths now. "
   ]
  },
  {
   "cell_type": "code",
   "execution_count": 23,
   "id": "b71cbfb7-e87c-4dbd-ab3d-3fd9bb8b16f3",
   "metadata": {},
   "outputs": [
    {
     "name": "stdout",
     "output_type": "stream",
     "text": [
      "Average length: 393.6187324508624 \n",
      "\n"
     ]
    },
    {
     "data": {
      "image/png": "[encoded data removed]",
      "text/plain": [
       "<Figure size 432x288 with 1 Axes>"
      ]
     },
     "metadata": {
      "needs_background": "light"
     },
     "output_type": "display_data"
    }
   ],
   "source": [
    "article_lengths = [len(line) for line in data['text']]\n",
    "avg_len = np.mean(article_lengths) \n",
    "print(f'Average length: {avg_len} \\n')\n",
    "plt.hist(article_lengths) \n",
    "plt.plot(avg_len, 100 ,'ro') \n",
    "plt.annotate(round(avg_len, 2), (avg_len, 160))\n",
    "plt.title('Distribution of the lengths of the News Articles')\n",
    "plt.xlabel('Length')\n",
    "plt.ylabel('Frequency')\n",
    "plt.show()"
   ]
  },
  {
   "cell_type": "markdown",
   "id": "51084a02-6cd6-4606-874e-7c4bf2db329e",
   "metadata": {},
   "source": [
    "The average length dropped from about 661 to almost 394. Besides, we don't see wild lengths (beyond 10k) as we saw earlier.  "
   ]
  },
  {
   "cell_type": "markdown",
   "id": "a3a98cee-5271-402d-91b7-651e83dfb67e",
   "metadata": {},
   "source": [
    "Before we move on, let's look at the most common bigrams again after cleaning the data. "
   ]
  },
  {
   "cell_type": "code",
   "execution_count": 24,
   "id": "3f9ac445-8292-4a64-a1a0-2e91bd66cfba",
   "metadata": {},
   "outputs": [],
   "source": [
    "fake = data.loc[data['label']=='1'].reset_index(drop=True)\n",
    "not_fake = data.loc[data['label'] == '0'].reset_index(drop=True)"
   ]
  },
  {
   "cell_type": "code",
   "execution_count": 25,
   "id": "0a652de7-0f25-45c3-adc1-2160a1b4fe54",
   "metadata": {},
   "outputs": [
    {
     "data": {
      "text/html": [
       "<div>\n",
       "<style scoped>\n",
       "    .dataframe tbody tr th:only-of-type {\n",
       "        vertical-align: middle;\n",
       "    }\n",
       "\n",
       "    .dataframe tbody tr th {\n",
       "        vertical-align: top;\n",
       "    }\n",
       "\n",
       "    .dataframe thead th {\n",
       "        text-align: right;\n",
       "    }\n",
       "</style>\n",
       "<table border=\"1\" class=\"dataframe\">\n",
       "  <thead>\n",
       "    <tr style=\"text-align: right;\">\n",
       "      <th></th>\n",
       "      <th>bigram</th>\n",
       "      <th>probability</th>\n",
       "    </tr>\n",
       "  </thead>\n",
       "  <tbody>\n",
       "    <tr>\n",
       "      <th>0</th>\n",
       "      <td>donald trump</td>\n",
       "      <td>0.104320</td>\n",
       "    </tr>\n",
       "    <tr>\n",
       "      <th>1</th>\n",
       "      <td>meghan markle</td>\n",
       "      <td>0.109695</td>\n",
       "    </tr>\n",
       "    <tr>\n",
       "      <th>2</th>\n",
       "      <td>prince harry</td>\n",
       "      <td>0.110959</td>\n",
       "    </tr>\n",
       "    <tr>\n",
       "      <th>3</th>\n",
       "      <td>kim kardashian</td>\n",
       "      <td>0.115701</td>\n",
       "    </tr>\n",
       "    <tr>\n",
       "      <th>4</th>\n",
       "      <td>united states</td>\n",
       "      <td>0.138146</td>\n",
       "    </tr>\n",
       "    <tr>\n",
       "      <th>5</th>\n",
       "      <td>brad pitt</td>\n",
       "      <td>0.143836</td>\n",
       "    </tr>\n",
       "    <tr>\n",
       "      <th>6</th>\n",
       "      <td>getty images</td>\n",
       "      <td>0.151739</td>\n",
       "    </tr>\n",
       "    <tr>\n",
       "      <th>7</th>\n",
       "      <td>los angeles</td>\n",
       "      <td>0.184299</td>\n",
       "    </tr>\n",
       "    <tr>\n",
       "      <th>8</th>\n",
       "      <td>year old</td>\n",
       "      <td>0.236460</td>\n",
       "    </tr>\n",
       "    <tr>\n",
       "      <th>9</th>\n",
       "      <td>new york</td>\n",
       "      <td>0.270601</td>\n",
       "    </tr>\n",
       "  </tbody>\n",
       "</table>\n",
       "</div>"
      ],
      "text/plain": [
       "           bigram  probability\n",
       "0    donald trump     0.104320\n",
       "1   meghan markle     0.109695\n",
       "2    prince harry     0.110959\n",
       "3  kim kardashian     0.115701\n",
       "4   united states     0.138146\n",
       "5       brad pitt     0.143836\n",
       "6    getty images     0.151739\n",
       "7     los angeles     0.184299\n",
       "8        year old     0.236460\n",
       "9        new york     0.270601"
      ]
     },
     "execution_count": 25,
     "metadata": {},
     "output_type": "execute_result"
    }
   ],
   "source": [
    "fake_corpus = [' '.join([' '.join(text) for text in fake['text']])]\n",
    "df = pd.DataFrame(get_top_n_bigrams(10, fake_corpus))\n",
    "df.columns = ['probability', 'bigram']\n",
    "df = df[['bigram', 'probability']]\n",
    "df"
   ]
  },
  {
   "cell_type": "code",
   "execution_count": 26,
   "id": "f78660f6-4f3c-4652-84fa-399d8d78be5f",
   "metadata": {},
   "outputs": [
    {
     "data": {
      "text/html": [
       "<div>\n",
       "<style scoped>\n",
       "    .dataframe tbody tr th:only-of-type {\n",
       "        vertical-align: middle;\n",
       "    }\n",
       "\n",
       "    .dataframe tbody tr th {\n",
       "        vertical-align: top;\n",
       "    }\n",
       "\n",
       "    .dataframe thead th {\n",
       "        text-align: right;\n",
       "    }\n",
       "</style>\n",
       "<table border=\"1\" class=\"dataframe\">\n",
       "  <thead>\n",
       "    <tr style=\"text-align: right;\">\n",
       "      <th></th>\n",
       "      <th>bigram</th>\n",
       "      <th>probability</th>\n",
       "    </tr>\n",
       "  </thead>\n",
       "  <tbody>\n",
       "    <tr>\n",
       "      <th>0</th>\n",
       "      <td>donald trump</td>\n",
       "      <td>0.090138</td>\n",
       "    </tr>\n",
       "    <tr>\n",
       "      <th>1</th>\n",
       "      <td>york city</td>\n",
       "      <td>0.095077</td>\n",
       "    </tr>\n",
       "    <tr>\n",
       "      <th>2</th>\n",
       "      <td>first time</td>\n",
       "      <td>0.102486</td>\n",
       "    </tr>\n",
       "    <tr>\n",
       "      <th>3</th>\n",
       "      <td>prince harry</td>\n",
       "      <td>0.105943</td>\n",
       "    </tr>\n",
       "    <tr>\n",
       "      <th>4</th>\n",
       "      <td>social media</td>\n",
       "      <td>0.132615</td>\n",
       "    </tr>\n",
       "    <tr>\n",
       "      <th>5</th>\n",
       "      <td>los angeles</td>\n",
       "      <td>0.141011</td>\n",
       "    </tr>\n",
       "    <tr>\n",
       "      <th>6</th>\n",
       "      <td>united states</td>\n",
       "      <td>0.153112</td>\n",
       "    </tr>\n",
       "    <tr>\n",
       "      <th>7</th>\n",
       "      <td>getty images</td>\n",
       "      <td>0.233866</td>\n",
       "    </tr>\n",
       "    <tr>\n",
       "      <th>8</th>\n",
       "      <td>year old</td>\n",
       "      <td>0.270415</td>\n",
       "    </tr>\n",
       "    <tr>\n",
       "      <th>9</th>\n",
       "      <td>new york</td>\n",
       "      <td>0.332154</td>\n",
       "    </tr>\n",
       "  </tbody>\n",
       "</table>\n",
       "</div>"
      ],
      "text/plain": [
       "          bigram  probability\n",
       "0   donald trump     0.090138\n",
       "1      york city     0.095077\n",
       "2     first time     0.102486\n",
       "3   prince harry     0.105943\n",
       "4   social media     0.132615\n",
       "5    los angeles     0.141011\n",
       "6  united states     0.153112\n",
       "7   getty images     0.233866\n",
       "8       year old     0.270415\n",
       "9       new york     0.332154"
      ]
     },
     "execution_count": 26,
     "metadata": {},
     "output_type": "execute_result"
    }
   ],
   "source": [
    "not_fake_corpus = [' '.join([' '.join(text) for text in not_fake['text']])]\n",
    "df = pd.DataFrame(get_top_n_bigrams(10, not_fake_corpus))\n",
    "df.columns = ['probability', 'bigram']\n",
    "df = df[['bigram', 'probability']]\n",
    "df"
   ]
  },
  {
   "cell_type": "markdown",
   "id": "9ee79b8e-1a87-4de7-9d45-48854cad8ff6",
   "metadata": {},
   "source": [
    "We don't see any of the stop words we saw last time. The bigrams give us a clue about what the news talk about, but we can't tell why e.g. the donald trump bigram in the fake corpus could be an indicator of fake news and the one in the not-fake corpus is an indicator of true news. The context matters a lot. Maybe the verbs used in the context decide that, or even the nouns.  "
   ]
  },
  {
   "cell_type": "markdown",
   "id": "f0a4b5f1-3dfb-4daa-9517-b3d291c46930",
   "metadata": {
    "tags": []
   },
   "source": [
    "## Vectorization\n",
    "\n",
    "At this point, our data is clean. However, we need to represent each news article as an embedding vector. Vectorization can be done in many ways. There are simple methods such as TFIDF and sophisticated methods such as Word2Vec and Bert. We assume that Bert embeddings would perform better the the simple TFIDF embeddings. We will use the model trained with TFIDF embeddings as the baseline and benchmark the models trained with Bert embeddings against it. We also use Word2Vec embeddings besides the former two methods.  "
   ]
  },
  {
   "cell_type": "markdown",
   "id": "0f1143e7-f081-427f-9ff2-6e5f9c27ba16",
   "metadata": {},
   "source": [
    "### TFIDF\n",
    "\n",
    "TF-IDF stands for Term Frequency and Inverse Document Frequency. Term Frequency is bascially the frequency of a word in a document. We could use the frequency alone as a weight for each word. However, this is misleading because the frequency of a word does not necessarily tell us that. TFIDF handles this by normalizing these frequencies by the inverse document frequency, which captures the rarity of the word. Due to this simplicity of the method, it does not capture any semantic of the words. Besides, it produces a sparse matrix of size N*V, where n is the number of documents and V is the size of the Vocabulary, all the unique words in the text. "
   ]
  },
  {
   "cell_type": "code",
   "execution_count": 27,
   "id": "a18d7fd3-9923-4eb1-9c61-494adb621b42",
   "metadata": {},
   "outputs": [],
   "source": [
    "texts = [' '.join(text) for text in data['text'].values]"
   ]
  },
  {
   "cell_type": "code",
   "execution_count": 28,
   "id": "b44bf5f3-14e0-4771-8927-7517ec8daef8",
   "metadata": {},
   "outputs": [],
   "source": [
    "tfidf_vectorizer = TfidfVectorizer()"
   ]
  },
  {
   "cell_type": "code",
   "execution_count": 29,
   "id": "50f3a569-264e-4d7b-978a-c65e3ec9c869",
   "metadata": {},
   "outputs": [],
   "source": [
    "tfidf_embeddings = tfidf_vectorizer.fit_transform(texts)"
   ]
  },
  {
   "cell_type": "code",
   "execution_count": 30,
   "id": "d747fddc-99c7-4fbe-81b4-eea5d8e47f41",
   "metadata": {},
   "outputs": [],
   "source": [
    "tfidf_embeddings = tfidf_embeddings.toarray()"
   ]
  },
  {
   "cell_type": "code",
   "execution_count": 31,
   "id": "ad0b774a-f115-49eb-b9d1-3052b90075e5",
   "metadata": {},
   "outputs": [
    {
     "data": {
      "text/plain": [
       "(4986, 62335)"
      ]
     },
     "execution_count": 31,
     "metadata": {},
     "output_type": "execute_result"
    }
   ],
   "source": [
    "tfidf_embeddings.shape"
   ]
  },
  {
   "cell_type": "markdown",
   "id": "b946ac48-22cf-4120-ac11-96ff93e55c9a",
   "metadata": {},
   "source": [
    "### Word2Vec \n",
    "\n",
    "\n",
    "Word2Vec is a more sophisticated approach than TFIDF. It tries to learn an embedding vector for a word from its context. A model tries to predict a word given its context. In the end, we don't use those probabilities, but the weights of the neural netwroks as vector representations of the words. Word2Vec produces a dense vector. The size is generally 100-300. Due to this sophisticated method, the embedding vectors carry semantic information. Hence, applying vector operations on the embeddings vectors produces meaning results. \n",
    "\n",
    "\n",
    "The model below takes as an input a word. For our case, we need a vector representaiton for the whole document not just for a single word in the document. To tackle this problem, we get the embedding of each word then average all the vectors to end up with a single vector representing the document. \n",
    "\n"
   ]
  },
  {
   "cell_type": "code",
   "execution_count": 32,
   "id": "2545d90e-e102-4cd2-94b4-e194af0fe8b1",
   "metadata": {},
   "outputs": [],
   "source": [
    "w2v_model = Word2Vec(data['text'], vector_size = 300, window = 5, sg=1)"
   ]
  },
  {
   "cell_type": "code",
   "execution_count": 33,
   "id": "4ace6d39-7ea7-4f8b-8637-dd2e35d9ef9b",
   "metadata": {},
   "outputs": [],
   "source": [
    "def get_w2v_embeddings(corpus):\n",
    "    w2v_embeddings = []\n",
    "    for text in corpus:\n",
    "        word_embeddings = []\n",
    "        for word in text:\n",
    "            if not word in w2v_model.wv: continue  \n",
    "            word_embeddings.append(w2v_model.wv[word])\n",
    "        doc_embedding = np.mean(np.array(word_embeddings), axis=0)\n",
    "        w2v_embeddings.append(doc_embedding)\n",
    "    w2v_embeddings = np.array(w2v_embeddings)\n",
    "    return w2v_embeddings"
   ]
  },
  {
   "cell_type": "code",
   "execution_count": 34,
   "id": "f64d5d3f-ae05-406a-91cc-fd9886458d3b",
   "metadata": {},
   "outputs": [],
   "source": [
    "w2v_embeddings = get_w2v_embeddings(data['text'])"
   ]
  },
  {
   "cell_type": "code",
   "execution_count": 35,
   "id": "d2d8a612-5e8a-48cd-92e6-7724d7326aa6",
   "metadata": {},
   "outputs": [
    {
     "data": {
      "text/plain": [
       "(4986, 300)"
      ]
     },
     "execution_count": 35,
     "metadata": {},
     "output_type": "execute_result"
    }
   ],
   "source": [
    "w2v_embeddings.shape"
   ]
  },
  {
   "cell_type": "markdown",
   "id": "83ead687-cb9b-4534-b963-33d871317774",
   "metadata": {},
   "source": [
    "### BERT\n",
    "\n",
    "\n",
    "Bert is a context dependent model. It captures all the word senses of a word. The input to the model is not a single word but a sentence. For example, the vector representation of a word depends on the sense of the word in that context. Word2Vec, on the other hand, would represent a word with a single vector for all the senses. Besides, Bert takes into account the position of the word unlike Word2Vec and TFIDF. \n",
    "\n",
    "\n",
    "Bert takes as an input a sentence, not a single word. That sentence's length should not exceed 512. And as we have seen above, some documents' length is way more than this. Therefore, we split such long documents into chunks to be able to input them to Bert. Then, as we did for Word2Vec, we get the embedding vector for each word in a document and average them to have a single embedding representation for the document.  \n"
   ]
  },
  {
   "cell_type": "code",
   "execution_count": 36,
   "id": "fda01540-99f5-4554-899d-a243861d5010",
   "metadata": {},
   "outputs": [],
   "source": [
    "\"\"\"\" This cell takes up to an hour to finish. \n",
    "    We pickled the embeddings so there would be no need to rerun it again\"\"\"\n",
    "\n",
    "def encode_text(text): \n",
    "    \"\"\" Returns a single bert vector representation for a text of any length\"\"\"\n",
    "    word_embeds = []\n",
    "    tokens = np.array(text.split())\n",
    "    num_sents = (len(tokens) + 512-1) // 512\n",
    "    sentences = np.array_split(tokens,  num_sents)\n",
    "    for idx, sent in enumerate(sentences):\n",
    "        sentence = Sentence(' '.join(sent))\n",
    "        embeddings.embed(sentence)\n",
    "        for tok in sentence: \n",
    "            word_embeds.append(tok.embedding.cpu().detach().numpy())\n",
    "        gc.collect()\n",
    "        torch.cuda.empty_cache()\n",
    "    res = np.mean(np.array(word_embeds), axis=0)\n",
    "    return res\n",
    "\n",
    "def get_bert_embeddings():\n",
    "    \"\"\" Iterates through all the documents and embeds one at a time\"\"\"\n",
    "    embeddings = TransformerWordEmbeddings('bert-base-uncased')\n",
    "    bert_embeddings = []\n",
    "    for text in texts:\n",
    "        embed = encode_text(' '.join(text)) \n",
    "        bert_embeddings.append(embed)\n",
    "    return bert_embeddings"
   ]
  },
  {
   "cell_type": "markdown",
   "id": "4b39bcce-de5a-4b60-9e19-34b6988854dc",
   "metadata": {},
   "source": [
    "Let's load the pickled embeddigns of the articles."
   ]
  },
  {
   "cell_type": "code",
   "execution_count": 37,
   "id": "0b88f466-e5da-4380-a052-cc44327d4b04",
   "metadata": {},
   "outputs": [],
   "source": [
    "with open('data/bert_embeddings.pickle', 'rb') as f:\n",
    "    bert_embeddings = np.array(pickle.load(f))"
   ]
  },
  {
   "cell_type": "code",
   "execution_count": 38,
   "id": "25773baf-3cfe-4c1d-808d-d62f0a1f6969",
   "metadata": {},
   "outputs": [
    {
     "data": {
      "text/plain": [
       "(4986, 768)"
      ]
     },
     "execution_count": 38,
     "metadata": {},
     "output_type": "execute_result"
    }
   ],
   "source": [
    "bert_embeddings.shape"
   ]
  },
  {
   "cell_type": "markdown",
   "id": "4bbd478e-3579-41d0-9b4c-d1cbb6c625e8",
   "metadata": {},
   "source": [
    "## Preprocessing the Data \n",
    "\n",
    "\n",
    "Before using the embeddings to train our models, we organize the data we have and preprocess the data such as scaling and splitting the data. We also have the option of reducing the dimensionality of our data using PCA.  "
   ]
  },
  {
   "cell_type": "code",
   "execution_count": 39,
   "id": "afb452c9-5143-435e-8272-fcf451e7d534",
   "metadata": {},
   "outputs": [],
   "source": [
    "X = {'tfidf': tfidf_embeddings, 'w2v': w2v_embeddings, 'bert': bert_embeddings}\n",
    "y = data['label'].astype(int)\n",
    "\n",
    "class Data:\n",
    "    \"\"\"This class handles the preprocessing of the data: splitting, scaling, PCA\"\"\"\n",
    "    def __init__(self, X, y, embed='tfidf'):\n",
    "        self.embed = embed\n",
    "        self.X = X[self.embed]\n",
    "        self.y = y\n",
    "    \n",
    "    def get_data(self, scaled=False, pca=False):\n",
    "        \"\"\"Returns the splitted data. Scaled if scaled=True. Transformed with PCA if pca=True\"\"\"\n",
    "        X_train, X_test, y_train, y_test = self.split_data()\n",
    "        if pca: X_train, X_test = self.pca_data(X_train, X_test)\n",
    "        if scaled: X_train, X_test = self.scaled_data(X_train, X_test)\n",
    "        return X_train, X_test, y_train, y_test\n",
    "    \n",
    "    def split_data(self):\n",
    "        \"\"\"Splits the data into training and testing (.2 of the data)\"\"\"\n",
    "        return train_test_split(self.X, self.y, test_size=0.2, random_state=42)\n",
    "   \n",
    "    def pca_data(self, X_train, X_test):\n",
    "        \"\"\"Transforms the data using PCA\"\"\"\n",
    "        X_train, X_test = self.scaled_data(X_train, X_test)\n",
    "        pca = PCA(.95)\n",
    "        X_train = pca.fit_transform(X_train)\n",
    "        X_test = pca.transform(X_test)\n",
    "        return X_train, X_test\n",
    "        \n",
    "    def scaled_data(self, X_train, X_test):\n",
    "        \"\"\"Scales the data using the standard scaler\"\"\"\n",
    "        if self.embed == 'tfidf': return X_train, X_test\n",
    "        scaler = StandardScaler()\n",
    "        X_train = scaler.fit_transform(X_train)\n",
    "        X_test = scaler.transform(X_test)\n",
    "        return X_train, X_test"
   ]
  },
  {
   "cell_type": "code",
   "execution_count": 40,
   "id": "398078ad-291b-4025-9c27-c13075d4121d",
   "metadata": {},
   "outputs": [],
   "source": [
    "tfidf_data = Data(X, y, embed='tfidf')\n",
    "w2v_data = Data(X, y, embed='w2v')\n",
    "bert_data = Data(X, y, embed='bert')"
   ]
  },
  {
   "cell_type": "markdown",
   "id": "14940593-e3e7-46cc-a240-b7195385924e",
   "metadata": {},
   "source": [
    "## Modelling\n",
    "\n",
    "\n",
    "Now, it is time to train some models on the embeddings we have. We train several classification mehtods compare their results. We compare the results of the models on the actual data and the data transformed with PCA. We combine differnt models of different embedding techniques (TFIDF, Word2Vec, and Bert) and have a voting system on their output. Finally, we interpret the results and discuss some possible improvements.\n",
    "\n",
    "\n",
    "We start with defninig a class and some functions to organize the section."
   ]
  },
  {
   "cell_type": "code",
   "execution_count": 41,
   "id": "879a7070-abc2-448c-b9e0-95e640d2352c",
   "metadata": {},
   "outputs": [],
   "source": [
    "class Model():\n",
    "    \"\"\"This class organizes the modelling process\"\"\"\n",
    "    def __init__(self, model):\n",
    "        self.model = model\n",
    "        \n",
    "    def train(self, X, y):\n",
    "        \"\"\"trains the model on the given X and y training data\"\"\"\n",
    "        self.model.fit(X, y)\n",
    "    \n",
    "    def accuracy_score(self, X, y, cv=False): \n",
    "        \"\"\"Returns the accuracy score. cv=True will cause it to return the mean of scores\"\"\"\n",
    "        if cv: return np.mean(cross_val_score(self.model, X, y, cv=3, scoring='accuracy'))\n",
    "        preds = self.model.predict(X)\n",
    "        return accuracy_score(y, preds)\n",
    "    \n",
    "    def f1_score(self, X, y, cv=False):\n",
    "        \"\"\"Returns the f1_score. cv=True will cause it to return the mean of the scores\"\"\"\n",
    "        if cv: return np.mean(cross_val_score(self.model, X, y, cv=3, scoring='f1'))\n",
    "        preds = self.model.predict(X) \n",
    "        return f1_score(y, preds)\n"
   ]
  },
  {
   "cell_type": "code",
   "execution_count": 42,
   "id": "fce5df25-963e-48b6-8992-9d81b3d14c6f",
   "metadata": {},
   "outputs": [],
   "source": [
    "def get_results_dict(models, data_all, pca=False):\n",
    "    \"\"\"Returns a result dict of all embeddings methods for all methods for all the metrics\"\"\"\n",
    "    scores_ = {}\n",
    "    for key, data in data_all.items():\n",
    "        X_train, X_test, y_train, y_test =  data.get_data(pca=pca, scaled=True) \n",
    "        sub_scores = {}\n",
    "        for model_name, model in models.items(): \n",
    "            clf = Model(model)\n",
    "            clf.train(X_train, y_train)\n",
    "            scores = [clf.accuracy_score(X_train, y_train, cv=True), clf.accuracy_score(X_train, y_train),\n",
    "                      clf.accuracy_score(X_test, y_test), clf.f1_score(X_train, y_train, cv=True),\n",
    "                      clf.f1_score(X_train, y_train), clf.f1_score(X_test, y_test)]\n",
    "            sub_scores[model_name] = scores \n",
    "        scores_[key] = sub_scores\n",
    "    return scores_"
   ]
  },
  {
   "cell_type": "code",
   "execution_count": 43,
   "id": "bf4af74d-972f-4e3b-85cb-f51df2db7db4",
   "metadata": {},
   "outputs": [],
   "source": [
    "def show_result_tables(result_dict, indexes):\n",
    "    \"\"\"This functions shows the result tables given the result dict\"\"\"\n",
    "    score_names = ['Accuracy Score (CV=3)', 'Accuracy Score (Train)', 'Accuracy Score (Test)', 'F1_Score (CV=3)', 'F1_Score (Train)', 'F1_Score (Test)']\n",
    "    for key, val in result_dict.items():\n",
    "        scrs = np.array(list(val.values()))\n",
    "        df = pd.DataFrame(scrs)\n",
    "        df.index = indexes\n",
    "        df.columns = score_names\n",
    "        display(df)"
   ]
  },
  {
   "cell_type": "markdown",
   "id": "d6c331e0-ce78-4df1-8173-abe31477cfea",
   "metadata": {},
   "source": [
    "Now, let's look at the results using the actual data without applying PCA."
   ]
  },
  {
   "cell_type": "code",
   "execution_count": 44,
   "id": "87dd3298-96f8-4cb9-bac5-a8758c6e9573",
   "metadata": {},
   "outputs": [],
   "source": [
    "models = {'lg': LogisticRegression(C=.5), 'svc':  LinearSVC(C=.01) , 'rf': RandomForestClassifier(max_depth=5)}\n",
    "data_all = {'tfidf': tfidf_data, 'w2v': w2v_data, 'bert': bert_data}"
   ]
  },
  {
   "cell_type": "code",
   "execution_count": 45,
   "id": "02f4c5c3-bc17-4b8d-97bf-1de82fdbcc0b",
   "metadata": {},
   "outputs": [],
   "source": [
    "result_dict = get_results_dict(models, data_all)"
   ]
  },
  {
   "cell_type": "code",
   "execution_count": 198,
   "id": "745b02ac-bd9b-4647-b98e-e03cdf36e11b",
   "metadata": {},
   "outputs": [
    {
     "data": {
      "text/html": [
       "<div>\n",
       "<style scoped>\n",
       "    .dataframe tbody tr th:only-of-type {\n",
       "        vertical-align: middle;\n",
       "    }\n",
       "\n",
       "    .dataframe tbody tr th {\n",
       "        vertical-align: top;\n",
       "    }\n",
       "\n",
       "    .dataframe thead th {\n",
       "        text-align: right;\n",
       "    }\n",
       "</style>\n",
       "<table border=\"1\" class=\"dataframe\">\n",
       "  <thead>\n",
       "    <tr style=\"text-align: right;\">\n",
       "      <th></th>\n",
       "      <th>Accuracy Score (CV=3)</th>\n",
       "      <th>Accuracy Score (Train)</th>\n",
       "      <th>Accuracy Score (Test)</th>\n",
       "      <th>F1_Score (CV=3)</th>\n",
       "      <th>F1_Score (Train)</th>\n",
       "      <th>F1_Score (Test)</th>\n",
       "    </tr>\n",
       "  </thead>\n",
       "  <tbody>\n",
       "    <tr>\n",
       "      <th>Logistic Regression</th>\n",
       "      <td>0.740471</td>\n",
       "      <td>0.802909</td>\n",
       "      <td>0.764529</td>\n",
       "      <td>0.571098</td>\n",
       "      <td>0.697460</td>\n",
       "      <td>0.643399</td>\n",
       "    </tr>\n",
       "    <tr>\n",
       "      <th>LinearSVC</th>\n",
       "      <td>0.657724</td>\n",
       "      <td>0.696841</td>\n",
       "      <td>0.678357</td>\n",
       "      <td>0.266510</td>\n",
       "      <td>0.408223</td>\n",
       "      <td>0.397749</td>\n",
       "    </tr>\n",
       "    <tr>\n",
       "      <th>RandomForestClassifier</th>\n",
       "      <td>0.633902</td>\n",
       "      <td>0.639920</td>\n",
       "      <td>0.608216</td>\n",
       "      <td>0.155641</td>\n",
       "      <td>0.183163</td>\n",
       "      <td>0.129176</td>\n",
       "    </tr>\n",
       "  </tbody>\n",
       "</table>\n",
       "</div>"
      ],
      "text/plain": [
       "                        Accuracy Score (CV=3)  Accuracy Score (Train)  \\\n",
       "Logistic Regression                  0.740471                0.802909   \n",
       "LinearSVC                            0.657724                0.696841   \n",
       "RandomForestClassifier               0.633902                0.639920   \n",
       "\n",
       "                        Accuracy Score (Test)  F1_Score (CV=3)  \\\n",
       "Logistic Regression                  0.764529         0.571098   \n",
       "LinearSVC                            0.678357         0.266510   \n",
       "RandomForestClassifier               0.608216         0.155641   \n",
       "\n",
       "                        F1_Score (Train)  F1_Score (Test)  \n",
       "Logistic Regression             0.697460         0.643399  \n",
       "LinearSVC                       0.408223         0.397749  \n",
       "RandomForestClassifier          0.183163         0.129176  "
      ]
     },
     "metadata": {},
     "output_type": "display_data"
    },
    {
     "data": {
      "text/html": [
       "<div>\n",
       "<style scoped>\n",
       "    .dataframe tbody tr th:only-of-type {\n",
       "        vertical-align: middle;\n",
       "    }\n",
       "\n",
       "    .dataframe tbody tr th {\n",
       "        vertical-align: top;\n",
       "    }\n",
       "\n",
       "    .dataframe thead th {\n",
       "        text-align: right;\n",
       "    }\n",
       "</style>\n",
       "<table border=\"1\" class=\"dataframe\">\n",
       "  <thead>\n",
       "    <tr style=\"text-align: right;\">\n",
       "      <th></th>\n",
       "      <th>Accuracy Score (CV=3)</th>\n",
       "      <th>Accuracy Score (Train)</th>\n",
       "      <th>Accuracy Score (Test)</th>\n",
       "      <th>F1_Score (CV=3)</th>\n",
       "      <th>F1_Score (Train)</th>\n",
       "      <th>F1_Score (Test)</th>\n",
       "    </tr>\n",
       "  </thead>\n",
       "  <tbody>\n",
       "    <tr>\n",
       "      <th>Logistic Regression</th>\n",
       "      <td>0.738216</td>\n",
       "      <td>0.785607</td>\n",
       "      <td>0.765531</td>\n",
       "      <td>0.655043</td>\n",
       "      <td>0.712024</td>\n",
       "      <td>0.692105</td>\n",
       "    </tr>\n",
       "    <tr>\n",
       "      <th>LinearSVC</th>\n",
       "      <td>0.746742</td>\n",
       "      <td>0.786359</td>\n",
       "      <td>0.766533</td>\n",
       "      <td>0.660933</td>\n",
       "      <td>0.708618</td>\n",
       "      <td>0.691391</td>\n",
       "    </tr>\n",
       "    <tr>\n",
       "      <th>RandomForestClassifier</th>\n",
       "      <td>0.742478</td>\n",
       "      <td>0.792377</td>\n",
       "      <td>0.741483</td>\n",
       "      <td>0.599013</td>\n",
       "      <td>0.675803</td>\n",
       "      <td>0.603077</td>\n",
       "    </tr>\n",
       "  </tbody>\n",
       "</table>\n",
       "</div>"
      ],
      "text/plain": [
       "                        Accuracy Score (CV=3)  Accuracy Score (Train)  \\\n",
       "Logistic Regression                  0.738216                0.785607   \n",
       "LinearSVC                            0.746742                0.786359   \n",
       "RandomForestClassifier               0.742478                0.792377   \n",
       "\n",
       "                        Accuracy Score (Test)  F1_Score (CV=3)  \\\n",
       "Logistic Regression                  0.765531         0.655043   \n",
       "LinearSVC                            0.766533         0.660933   \n",
       "RandomForestClassifier               0.741483         0.599013   \n",
       "\n",
       "                        F1_Score (Train)  F1_Score (Test)  \n",
       "Logistic Regression             0.712024         0.692105  \n",
       "LinearSVC                       0.708618         0.691391  \n",
       "RandomForestClassifier          0.675803         0.603077  "
      ]
     },
     "metadata": {},
     "output_type": "display_data"
    },
    {
     "data": {
      "text/html": [
       "<div>\n",
       "<style scoped>\n",
       "    .dataframe tbody tr th:only-of-type {\n",
       "        vertical-align: middle;\n",
       "    }\n",
       "\n",
       "    .dataframe tbody tr th {\n",
       "        vertical-align: top;\n",
       "    }\n",
       "\n",
       "    .dataframe thead th {\n",
       "        text-align: right;\n",
       "    }\n",
       "</style>\n",
       "<table border=\"1\" class=\"dataframe\">\n",
       "  <thead>\n",
       "    <tr style=\"text-align: right;\">\n",
       "      <th></th>\n",
       "      <th>Accuracy Score (CV=3)</th>\n",
       "      <th>Accuracy Score (Train)</th>\n",
       "      <th>Accuracy Score (Test)</th>\n",
       "      <th>F1_Score (CV=3)</th>\n",
       "      <th>F1_Score (Train)</th>\n",
       "      <th>F1_Score (Test)</th>\n",
       "    </tr>\n",
       "  </thead>\n",
       "  <tbody>\n",
       "    <tr>\n",
       "      <th>Logistic Regression</th>\n",
       "      <td>0.700098</td>\n",
       "      <td>0.844032</td>\n",
       "      <td>0.735471</td>\n",
       "      <td>0.628242</td>\n",
       "      <td>0.800000</td>\n",
       "      <td>0.674074</td>\n",
       "    </tr>\n",
       "    <tr>\n",
       "      <th>LinearSVC</th>\n",
       "      <td>0.718655</td>\n",
       "      <td>0.834504</td>\n",
       "      <td>0.751503</td>\n",
       "      <td>0.643527</td>\n",
       "      <td>0.784173</td>\n",
       "      <td>0.685279</td>\n",
       "    </tr>\n",
       "    <tr>\n",
       "      <th>RandomForestClassifier</th>\n",
       "      <td>0.699348</td>\n",
       "      <td>0.776830</td>\n",
       "      <td>0.689379</td>\n",
       "      <td>0.477175</td>\n",
       "      <td>0.633443</td>\n",
       "      <td>0.461806</td>\n",
       "    </tr>\n",
       "  </tbody>\n",
       "</table>\n",
       "</div>"
      ],
      "text/plain": [
       "                        Accuracy Score (CV=3)  Accuracy Score (Train)  \\\n",
       "Logistic Regression                  0.700098                0.844032   \n",
       "LinearSVC                            0.718655                0.834504   \n",
       "RandomForestClassifier               0.699348                0.776830   \n",
       "\n",
       "                        Accuracy Score (Test)  F1_Score (CV=3)  \\\n",
       "Logistic Regression                  0.735471         0.628242   \n",
       "LinearSVC                            0.751503         0.643527   \n",
       "RandomForestClassifier               0.689379         0.477175   \n",
       "\n",
       "                        F1_Score (Train)  F1_Score (Test)  \n",
       "Logistic Regression             0.800000         0.674074  \n",
       "LinearSVC                       0.784173         0.685279  \n",
       "RandomForestClassifier          0.633443         0.461806  "
      ]
     },
     "metadata": {},
     "output_type": "display_data"
    }
   ],
   "source": [
    "indexes = ['Logistic Regression', 'LinearSVC', 'RandomForestClassifier']\n",
    "show_result_tables(result_dict, indexes)"
   ]
  },
  {
   "cell_type": "markdown",
   "id": "8b844886-cb04-4518-bc11-1c57fe217de0",
   "metadata": {},
   "source": [
    "### PCA\n",
    "\n",
    "Here, we apply PCA transformation to the data first before running the above experiment. "
   ]
  },
  {
   "cell_type": "code",
   "execution_count": 47,
   "id": "a3d824c2-a8d9-4b78-9542-80ed9c74b2c7",
   "metadata": {},
   "outputs": [],
   "source": [
    "result_dict_pca = get_results_dict(models, data_all, pca=True)"
   ]
  },
  {
   "cell_type": "code",
   "execution_count": 200,
   "id": "88e88329-417a-441c-8e95-4bece098991b",
   "metadata": {},
   "outputs": [
    {
     "data": {
      "text/html": [
       "<div>\n",
       "<style scoped>\n",
       "    .dataframe tbody tr th:only-of-type {\n",
       "        vertical-align: middle;\n",
       "    }\n",
       "\n",
       "    .dataframe tbody tr th {\n",
       "        vertical-align: top;\n",
       "    }\n",
       "\n",
       "    .dataframe thead th {\n",
       "        text-align: right;\n",
       "    }\n",
       "</style>\n",
       "<table border=\"1\" class=\"dataframe\">\n",
       "  <thead>\n",
       "    <tr style=\"text-align: right;\">\n",
       "      <th></th>\n",
       "      <th>Accuracy Score (CV=3)</th>\n",
       "      <th>Accuracy Score (Train)</th>\n",
       "      <th>Accuracy Score (Test)</th>\n",
       "      <th>F1_Score (CV=3)</th>\n",
       "      <th>F1_Score (Train)</th>\n",
       "      <th>F1_Score (Test)</th>\n",
       "    </tr>\n",
       "  </thead>\n",
       "  <tbody>\n",
       "    <tr>\n",
       "      <th>Logistic Regression</th>\n",
       "      <td>0.742477</td>\n",
       "      <td>0.800401</td>\n",
       "      <td>0.765531</td>\n",
       "      <td>0.575510</td>\n",
       "      <td>0.693846</td>\n",
       "      <td>0.645455</td>\n",
       "    </tr>\n",
       "    <tr>\n",
       "      <th>LinearSVC</th>\n",
       "      <td>0.657472</td>\n",
       "      <td>0.695587</td>\n",
       "      <td>0.678357</td>\n",
       "      <td>0.267165</td>\n",
       "      <td>0.405485</td>\n",
       "      <td>0.397749</td>\n",
       "    </tr>\n",
       "    <tr>\n",
       "      <th>RandomForestClassifier</th>\n",
       "      <td>0.677532</td>\n",
       "      <td>0.746239</td>\n",
       "      <td>0.691383</td>\n",
       "      <td>0.382667</td>\n",
       "      <td>0.542909</td>\n",
       "      <td>0.465278</td>\n",
       "    </tr>\n",
       "  </tbody>\n",
       "</table>\n",
       "</div>"
      ],
      "text/plain": [
       "                        Accuracy Score (CV=3)  Accuracy Score (Train)  \\\n",
       "Logistic Regression                  0.742477                0.800401   \n",
       "LinearSVC                            0.657472                0.695587   \n",
       "RandomForestClassifier               0.677532                0.746239   \n",
       "\n",
       "                        Accuracy Score (Test)  F1_Score (CV=3)  \\\n",
       "Logistic Regression                  0.765531         0.575510   \n",
       "LinearSVC                            0.678357         0.267165   \n",
       "RandomForestClassifier               0.691383         0.382667   \n",
       "\n",
       "                        F1_Score (Train)  F1_Score (Test)  \n",
       "Logistic Regression             0.693846         0.645455  \n",
       "LinearSVC                       0.405485         0.397749  \n",
       "RandomForestClassifier          0.542909         0.465278  "
      ]
     },
     "metadata": {},
     "output_type": "display_data"
    },
    {
     "data": {
      "text/html": [
       "<div>\n",
       "<style scoped>\n",
       "    .dataframe tbody tr th:only-of-type {\n",
       "        vertical-align: middle;\n",
       "    }\n",
       "\n",
       "    .dataframe tbody tr th {\n",
       "        vertical-align: top;\n",
       "    }\n",
       "\n",
       "    .dataframe thead th {\n",
       "        text-align: right;\n",
       "    }\n",
       "</style>\n",
       "<table border=\"1\" class=\"dataframe\">\n",
       "  <thead>\n",
       "    <tr style=\"text-align: right;\">\n",
       "      <th></th>\n",
       "      <th>Accuracy Score (CV=3)</th>\n",
       "      <th>Accuracy Score (Train)</th>\n",
       "      <th>Accuracy Score (Test)</th>\n",
       "      <th>F1_Score (CV=3)</th>\n",
       "      <th>F1_Score (Train)</th>\n",
       "      <th>F1_Score (Test)</th>\n",
       "    </tr>\n",
       "  </thead>\n",
       "  <tbody>\n",
       "    <tr>\n",
       "      <th>Logistic Regression</th>\n",
       "      <td>0.740472</td>\n",
       "      <td>0.768054</td>\n",
       "      <td>0.761523</td>\n",
       "      <td>0.647678</td>\n",
       "      <td>0.682021</td>\n",
       "      <td>0.680108</td>\n",
       "    </tr>\n",
       "    <tr>\n",
       "      <th>LinearSVC</th>\n",
       "      <td>0.742979</td>\n",
       "      <td>0.765045</td>\n",
       "      <td>0.761523</td>\n",
       "      <td>0.647398</td>\n",
       "      <td>0.673633</td>\n",
       "      <td>0.673973</td>\n",
       "    </tr>\n",
       "    <tr>\n",
       "      <th>RandomForestClassifier</th>\n",
       "      <td>0.721414</td>\n",
       "      <td>0.757773</td>\n",
       "      <td>0.719439</td>\n",
       "      <td>0.506109</td>\n",
       "      <td>0.579634</td>\n",
       "      <td>0.522184</td>\n",
       "    </tr>\n",
       "  </tbody>\n",
       "</table>\n",
       "</div>"
      ],
      "text/plain": [
       "                        Accuracy Score (CV=3)  Accuracy Score (Train)  \\\n",
       "Logistic Regression                  0.740472                0.768054   \n",
       "LinearSVC                            0.742979                0.765045   \n",
       "RandomForestClassifier               0.721414                0.757773   \n",
       "\n",
       "                        Accuracy Score (Test)  F1_Score (CV=3)  \\\n",
       "Logistic Regression                  0.761523         0.647678   \n",
       "LinearSVC                            0.761523         0.647398   \n",
       "RandomForestClassifier               0.719439         0.506109   \n",
       "\n",
       "                        F1_Score (Train)  F1_Score (Test)  \n",
       "Logistic Regression             0.682021         0.680108  \n",
       "LinearSVC                       0.673633         0.673973  \n",
       "RandomForestClassifier          0.579634         0.522184  "
      ]
     },
     "metadata": {},
     "output_type": "display_data"
    },
    {
     "data": {
      "text/html": [
       "<div>\n",
       "<style scoped>\n",
       "    .dataframe tbody tr th:only-of-type {\n",
       "        vertical-align: middle;\n",
       "    }\n",
       "\n",
       "    .dataframe tbody tr th {\n",
       "        vertical-align: top;\n",
       "    }\n",
       "\n",
       "    .dataframe thead th {\n",
       "        text-align: right;\n",
       "    }\n",
       "</style>\n",
       "<table border=\"1\" class=\"dataframe\">\n",
       "  <thead>\n",
       "    <tr style=\"text-align: right;\">\n",
       "      <th></th>\n",
       "      <th>Accuracy Score (CV=3)</th>\n",
       "      <th>Accuracy Score (Train)</th>\n",
       "      <th>Accuracy Score (Test)</th>\n",
       "      <th>F1_Score (CV=3)</th>\n",
       "      <th>F1_Score (Train)</th>\n",
       "      <th>F1_Score (Test)</th>\n",
       "    </tr>\n",
       "  </thead>\n",
       "  <tbody>\n",
       "    <tr>\n",
       "      <th>Logistic Regression</th>\n",
       "      <td>0.721165</td>\n",
       "      <td>0.785105</td>\n",
       "      <td>0.741483</td>\n",
       "      <td>0.636818</td>\n",
       "      <td>0.717255</td>\n",
       "      <td>0.673418</td>\n",
       "    </tr>\n",
       "    <tr>\n",
       "      <th>LinearSVC</th>\n",
       "      <td>0.724174</td>\n",
       "      <td>0.783099</td>\n",
       "      <td>0.741483</td>\n",
       "      <td>0.639045</td>\n",
       "      <td>0.712720</td>\n",
       "      <td>0.665803</td>\n",
       "    </tr>\n",
       "    <tr>\n",
       "      <th>RandomForestClassifier</th>\n",
       "      <td>0.638415</td>\n",
       "      <td>0.696088</td>\n",
       "      <td>0.638277</td>\n",
       "      <td>0.186821</td>\n",
       "      <td>0.389113</td>\n",
       "      <td>0.246347</td>\n",
       "    </tr>\n",
       "  </tbody>\n",
       "</table>\n",
       "</div>"
      ],
      "text/plain": [
       "                        Accuracy Score (CV=3)  Accuracy Score (Train)  \\\n",
       "Logistic Regression                  0.721165                0.785105   \n",
       "LinearSVC                            0.724174                0.783099   \n",
       "RandomForestClassifier               0.638415                0.696088   \n",
       "\n",
       "                        Accuracy Score (Test)  F1_Score (CV=3)  \\\n",
       "Logistic Regression                  0.741483         0.636818   \n",
       "LinearSVC                            0.741483         0.639045   \n",
       "RandomForestClassifier               0.638277         0.186821   \n",
       "\n",
       "                        F1_Score (Train)  F1_Score (Test)  \n",
       "Logistic Regression             0.717255         0.673418  \n",
       "LinearSVC                       0.712720         0.665803  \n",
       "RandomForestClassifier          0.389113         0.246347  "
      ]
     },
     "metadata": {},
     "output_type": "display_data"
    }
   ],
   "source": [
    "show_result_tables(result_dict_pca, indexes)"
   ]
  },
  {
   "cell_type": "markdown",
   "id": "8aa7395b-6bdc-4061-b9f9-530fd3a2274e",
   "metadata": {
    "tags": []
   },
   "source": [
    "### Ensemble Method"
   ]
  },
  {
   "cell_type": "code",
   "execution_count": 48,
   "id": "ccaad2bb-bc90-4ca8-8d43-d274c1ffee30",
   "metadata": {},
   "outputs": [],
   "source": [
    "def plot_distribution(y_true, predictions, voting):\n",
    "    \"\"\"plots the distributin of y(true) Vs. the predictions\"\"\"\n",
    "    bins = [-.1, .1, .9, 1.1]\n",
    "    plt.hist(y_true, alpha=.7, color='blue', label='true', bins=bins)\n",
    "    plt.hist(predictions, color='red', label = 'predictions')\n",
    "    plt.legend(fontsize=14)\n",
    "    plt.xlabel('Label')\n",
    "    plt.ylabel('Frequency')\n",
    "    plt.title(f'{voting}: Gold Vs. Predictions')\n",
    "    plt.show()"
   ]
  },
  {
   "cell_type": "code",
   "execution_count": 49,
   "id": "f39886ae-949b-4919-9741-1bdf2904a5e2",
   "metadata": {},
   "outputs": [],
   "source": [
    "def ensemble(voting=\"soft\"):\n",
    "    svc = LinearSVC(C=.01)\n",
    "    svc = CalibratedClassifierCV(svc) \n",
    "    lg = LogisticRegression(max_iter=2000, C=.5)\n",
    "    data_to_use = [tfidf_data, w2v_data, bert_data]\n",
    "    scores = []\n",
    "    for idx, model in enumerate([Model(lg), Model(svc), Model(svc)]):\n",
    "        X_train, X_test, y_train, y_test =  data_to_use[idx].get_data() \n",
    "        model.train(X_train, y_train)\n",
    "        if voting==\"soft\":\n",
    "            s1, s2 = model.model.predict_proba(X_train), model.model.predict_proba(X_test)\n",
    "        else: \n",
    "            s1, s2 = model.model.predict(X_train), model.model.predict(X_test)\n",
    "        scores.append([s1, s2])\n",
    "    return scores"
   ]
  },
  {
   "cell_type": "markdown",
   "id": "b73456b8-d43e-476a-8691-694244daf98a",
   "metadata": {
    "tags": []
   },
   "source": [
    "#### Hard Voting "
   ]
  },
  {
   "cell_type": "code",
   "execution_count": 51,
   "id": "bcf6f816-32ae-4518-b8cb-afce344b7bbc",
   "metadata": {},
   "outputs": [],
   "source": [
    "scores = ensemble(voting=\"hard\")"
   ]
  },
  {
   "cell_type": "code",
   "execution_count": 232,
   "id": "3b0f5f50-f261-4d3a-9355-fe5a95b615ee",
   "metadata": {},
   "outputs": [],
   "source": [
    "train_preds = stats.mode(np.array([sc[0] for sc in scores]))[0][0]\n",
    "test_preds = stats.mode(np.array([sc[1] for sc in scores]))[0][0]"
   ]
  },
  {
   "cell_type": "code",
   "execution_count": 266,
   "id": "6cccced8-5f53-457d-8ddc-faca7200c282",
   "metadata": {},
   "outputs": [
    {
     "data": {
      "text/html": [
       "<div>\n",
       "<style scoped>\n",
       "    .dataframe tbody tr th:only-of-type {\n",
       "        vertical-align: middle;\n",
       "    }\n",
       "\n",
       "    .dataframe tbody tr th {\n",
       "        vertical-align: top;\n",
       "    }\n",
       "\n",
       "    .dataframe thead th {\n",
       "        text-align: right;\n",
       "    }\n",
       "</style>\n",
       "<table border=\"1\" class=\"dataframe\">\n",
       "  <thead>\n",
       "    <tr style=\"text-align: right;\">\n",
       "      <th></th>\n",
       "      <th>accuracy score (train)</th>\n",
       "      <th>accuracy score (test)</th>\n",
       "      <th>f1 score (train)</th>\n",
       "      <th>f1 score (test)</th>\n",
       "    </tr>\n",
       "  </thead>\n",
       "  <tbody>\n",
       "    <tr>\n",
       "      <th>ensemble</th>\n",
       "      <td>0.777834</td>\n",
       "      <td>0.755511</td>\n",
       "      <td>0.678753</td>\n",
       "      <td>0.651429</td>\n",
       "    </tr>\n",
       "  </tbody>\n",
       "</table>\n",
       "</div>"
      ],
      "text/plain": [
       "          accuracy score (train)  accuracy score (test)  f1 score (train)  \\\n",
       "ensemble                0.777834               0.755511          0.678753   \n",
       "\n",
       "          f1 score (test)  \n",
       "ensemble         0.651429  "
      ]
     },
     "execution_count": 266,
     "metadata": {},
     "output_type": "execute_result"
    }
   ],
   "source": [
    "def show_ensemble_table(y_train, y_test, train_preds, test_preds):\n",
    "    res_d = {'accuracy score (train)': accuracy_score(y_train, train_preds), 'accuracy score (test)': accuracy_score(y_test, test_preds),\n",
    "         'f1 score (train)': f1_score(y_train, train_preds), 'f1 score (test)': f1_score(y_test, test_preds)}\n",
    "    df = pd.DataFrame(res_d, index=['ensemble'])\n",
    "    return df\n",
    "hard_df = show_ensemble_table(y_train, y_test, train_preds, test_preds)\n",
    "hard_df"
   ]
  },
  {
   "cell_type": "code",
   "execution_count": 234,
   "id": "e4da91de-7a51-42af-9db0-1eb73109799c",
   "metadata": {},
   "outputs": [
    {
     "name": "stdout",
     "output_type": "stream",
     "text": [
      "# of missclassified: 244\n"
     ]
    }
   ],
   "source": [
    "hard_miss_count = len(y_test[y_test!=test_preds])\n",
    "print(f'# of missclassified: {hard_miss_count}')"
   ]
  },
  {
   "cell_type": "code",
   "execution_count": 256,
   "id": "40c75aad-59d8-4acd-bc29-f2e08470b4bb",
   "metadata": {},
   "outputs": [
    {
     "data": {
      "image/png": "[encoded data removed]",
      "text/plain": [
       "<Figure size 432x288 with 1 Axes>"
      ]
     },
     "metadata": {
      "needs_background": "light"
     },
     "output_type": "display_data"
    }
   ],
   "source": [
    "plot_distribution(y_train, train_preds, voting='Hard')"
   ]
  },
  {
   "cell_type": "code",
   "execution_count": 257,
   "id": "bb4a3d6f-ac52-4318-b879-537c83b9896a",
   "metadata": {},
   "outputs": [
    {
     "data": {
      "image/png": "[encoded data removed]",
      "text/plain": [
       "<Figure size 432x288 with 1 Axes>"
      ]
     },
     "metadata": {
      "needs_background": "light"
     },
     "output_type": "display_data"
    }
   ],
   "source": [
    "plot_distribution(y_test, test_preds, voting='Hard')"
   ]
  },
  {
   "cell_type": "markdown",
   "id": "6a6342d0-fd6a-4875-ae49-592b0d3e8b59",
   "metadata": {},
   "source": [
    "#### Soft Voting"
   ]
  },
  {
   "cell_type": "code",
   "execution_count": 247,
   "id": "9d960774-fb9d-4865-ab85-b7c526db22a0",
   "metadata": {},
   "outputs": [],
   "source": [
    "scores = ensemble(voting=\"soft\")"
   ]
  },
  {
   "cell_type": "code",
   "execution_count": 248,
   "id": "1090263a-d9d6-4972-af45-a27158289526",
   "metadata": {},
   "outputs": [],
   "source": [
    "soft_train_preds = np.array([0 if i > j else 1 for i, j in np.mean(np.array([sc[0] for sc in scores]), axis=0)])\n",
    "soft_test_preds = np.array([0 if i > j else 1 for i, j in np.mean(np.array([sc[1] for sc in scores]), axis=0)])"
   ]
  },
  {
   "cell_type": "code",
   "execution_count": 267,
   "id": "d69dc71d-73b2-4602-a3a0-21b407482f2e",
   "metadata": {},
   "outputs": [
    {
     "data": {
      "text/html": [
       "<div>\n",
       "<style scoped>\n",
       "    .dataframe tbody tr th:only-of-type {\n",
       "        vertical-align: middle;\n",
       "    }\n",
       "\n",
       "    .dataframe tbody tr th {\n",
       "        vertical-align: top;\n",
       "    }\n",
       "\n",
       "    .dataframe thead th {\n",
       "        text-align: right;\n",
       "    }\n",
       "</style>\n",
       "<table border=\"1\" class=\"dataframe\">\n",
       "  <thead>\n",
       "    <tr style=\"text-align: right;\">\n",
       "      <th></th>\n",
       "      <th>accuracy score (train)</th>\n",
       "      <th>accuracy score (test)</th>\n",
       "      <th>f1 score (train)</th>\n",
       "      <th>f1 score (test)</th>\n",
       "    </tr>\n",
       "  </thead>\n",
       "  <tbody>\n",
       "    <tr>\n",
       "      <th>ensemble</th>\n",
       "      <td>0.787362</td>\n",
       "      <td>0.762525</td>\n",
       "      <td>0.692976</td>\n",
       "      <td>0.667602</td>\n",
       "    </tr>\n",
       "  </tbody>\n",
       "</table>\n",
       "</div>"
      ],
      "text/plain": [
       "          accuracy score (train)  accuracy score (test)  f1 score (train)  \\\n",
       "ensemble                0.787362               0.762525          0.692976   \n",
       "\n",
       "          f1 score (test)  \n",
       "ensemble         0.667602  "
      ]
     },
     "execution_count": 267,
     "metadata": {},
     "output_type": "execute_result"
    }
   ],
   "source": [
    "soft_df = show_ensemble_table(y_train, y_test, soft_train_preds, soft_test_preds)\n",
    "soft_df"
   ]
  },
  {
   "cell_type": "code",
   "execution_count": 250,
   "id": "2f922af4-08e7-4c88-91d5-ce0c0171f209",
   "metadata": {},
   "outputs": [
    {
     "name": "stdout",
     "output_type": "stream",
     "text": [
      "# of missclassified: 237\n"
     ]
    }
   ],
   "source": [
    "soft_miss_count = len(y_test[y_test!=soft_test_preds])\n",
    "print(f'# of missclassified: {soft_miss_count}')"
   ]
  },
  {
   "cell_type": "code",
   "execution_count": 258,
   "id": "2f1c38c8-0aa4-4e25-9673-e6f16e6215b4",
   "metadata": {},
   "outputs": [
    {
     "data": {
      "image/png": "[encoded data removed]",
      "text/plain": [
       "<Figure size 432x288 with 1 Axes>"
      ]
     },
     "metadata": {
      "needs_background": "light"
     },
     "output_type": "display_data"
    }
   ],
   "source": [
    "plot_distribution(y_train, soft_train_preds, voting='Soft')"
   ]
  },
  {
   "cell_type": "code",
   "execution_count": 259,
   "id": "4f3c3800-7c4c-4008-ab45-72ff0ebf50b2",
   "metadata": {},
   "outputs": [
    {
     "data": {
      "image/png": "[encoded data removed]",
      "text/plain": [
       "<Figure size 432x288 with 1 Axes>"
      ]
     },
     "metadata": {
      "needs_background": "light"
     },
     "output_type": "display_data"
    }
   ],
   "source": [
    "plot_distribution(y_test, soft_test_preds, voting='Soft')"
   ]
  },
  {
   "cell_type": "markdown",
   "id": "0e11478f-32db-44a6-9a50-209717ce4837",
   "metadata": {},
   "source": [
    "## Kaggle Submission"
   ]
  },
  {
   "cell_type": "code",
   "execution_count": 243,
   "id": "13896c6b-efc6-4db7-b4e6-5535822d28c2",
   "metadata": {},
   "outputs": [],
   "source": [
    "test = pd.read_csv('data/test.csv', sep='\\t')\n",
    "test['text'] = test['text'].apply(lambda x: clean_text(x))\n",
    "test_embeddings = get_w2v_embeddings(test['text'])\n",
    "X_train, X_test, y_train, y_test = w2v_data.get_data(scaled=False)\n",
    "test_m = RandomForestClassifier()\n",
    "test_m.fit(X_train, y_train)\n",
    "sub_preds = test_m.predict(test_embeddings)"
   ]
  },
  {
   "cell_type": "code",
   "execution_count": 61,
   "id": "b672c390-d46c-4457-9626-de127c0135b9",
   "metadata": {},
   "outputs": [],
   "source": [
    "submission = pd.DataFrame({'id' : test['id'], 'label' : sub_preds})"
   ]
  },
  {
   "cell_type": "code",
   "execution_count": 62,
   "id": "9c34e7ca-5f18-4640-a31c-5e324e7c2f95",
   "metadata": {},
   "outputs": [
    {
     "data": {
      "text/html": [
       "<div>\n",
       "<style scoped>\n",
       "    .dataframe tbody tr th:only-of-type {\n",
       "        vertical-align: middle;\n",
       "    }\n",
       "\n",
       "    .dataframe tbody tr th {\n",
       "        vertical-align: top;\n",
       "    }\n",
       "\n",
       "    .dataframe thead th {\n",
       "        text-align: right;\n",
       "    }\n",
       "</style>\n",
       "<table border=\"1\" class=\"dataframe\">\n",
       "  <thead>\n",
       "    <tr style=\"text-align: right;\">\n",
       "      <th></th>\n",
       "      <th>id</th>\n",
       "      <th>label</th>\n",
       "    </tr>\n",
       "  </thead>\n",
       "  <tbody>\n",
       "    <tr>\n",
       "      <th>0</th>\n",
       "      <td>2</td>\n",
       "      <td>0</td>\n",
       "    </tr>\n",
       "    <tr>\n",
       "      <th>1</th>\n",
       "      <td>3</td>\n",
       "      <td>0</td>\n",
       "    </tr>\n",
       "    <tr>\n",
       "      <th>2</th>\n",
       "      <td>4</td>\n",
       "      <td>1</td>\n",
       "    </tr>\n",
       "    <tr>\n",
       "      <th>3</th>\n",
       "      <td>5</td>\n",
       "      <td>1</td>\n",
       "    </tr>\n",
       "    <tr>\n",
       "      <th>4</th>\n",
       "      <td>6</td>\n",
       "      <td>0</td>\n",
       "    </tr>\n",
       "    <tr>\n",
       "      <th>...</th>\n",
       "      <td>...</td>\n",
       "      <td>...</td>\n",
       "    </tr>\n",
       "    <tr>\n",
       "      <th>1242</th>\n",
       "      <td>1244</td>\n",
       "      <td>0</td>\n",
       "    </tr>\n",
       "    <tr>\n",
       "      <th>1243</th>\n",
       "      <td>1245</td>\n",
       "      <td>0</td>\n",
       "    </tr>\n",
       "    <tr>\n",
       "      <th>1244</th>\n",
       "      <td>1246</td>\n",
       "      <td>0</td>\n",
       "    </tr>\n",
       "    <tr>\n",
       "      <th>1245</th>\n",
       "      <td>1247</td>\n",
       "      <td>0</td>\n",
       "    </tr>\n",
       "    <tr>\n",
       "      <th>1246</th>\n",
       "      <td>1248</td>\n",
       "      <td>0</td>\n",
       "    </tr>\n",
       "  </tbody>\n",
       "</table>\n",
       "<p>1247 rows × 2 columns</p>\n",
       "</div>"
      ],
      "text/plain": [
       "        id  label\n",
       "0        2      0\n",
       "1        3      0\n",
       "2        4      1\n",
       "3        5      1\n",
       "4        6      0\n",
       "...    ...    ...\n",
       "1242  1244      0\n",
       "1243  1245      0\n",
       "1244  1246      0\n",
       "1245  1247      0\n",
       "1246  1248      0\n",
       "\n",
       "[1247 rows x 2 columns]"
      ]
     },
     "execution_count": 62,
     "metadata": {},
     "output_type": "execute_result"
    }
   ],
   "source": [
    "submission"
   ]
  },
  {
   "cell_type": "code",
   "execution_count": 63,
   "id": "b16280a7-d318-4446-9303-fcab28994aad",
   "metadata": {},
   "outputs": [],
   "source": [
    "# submission.to_csv(\"submission.csv\", index=False) # save to csv to submit"
   ]
  }
 ],
 "metadata": {
  "kernelspec": {
   "display_name": "Python 3 (ipykernel)",
   "language": "python",
   "name": "python3"
  },
  "language_info": {
   "codemirror_mode": {
    "name": "ipython",
    "version": 3
   },
   "file_extension": ".py",
   "mimetype": "text/x-python",
   "name": "python",
   "nbconvert_exporter": "python",
   "pygments_lexer": "ipython3",
   "version": "3.9.7"
  }
 },
 "nbformat": 4,
 "nbformat_minor": 5
}
